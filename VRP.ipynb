{
  "nbformat": 4,
  "nbformat_minor": 0,
  "metadata": {
    "colab": {
      "provenance": [],
      "authorship_tag": "ABX9TyPplMC3C4cmWssCf7thXWMg",
      "include_colab_link": true
    },
    "kernelspec": {
      "name": "python3",
      "display_name": "Python 3"
    },
    "language_info": {
      "name": "python"
    }
  },
  "cells": [
    {
      "cell_type": "markdown",
      "metadata": {
        "id": "view-in-github",
        "colab_type": "text"
      },
      "source": [
        "<a href=\"https://colab.research.google.com/github/vasan145/Vehicle-Routoing-Problem/blob/main/VRP.ipynb\" target=\"_parent\"><img src=\"https://colab.research.google.com/assets/colab-badge.svg\" alt=\"Open In Colab\"/></a>"
      ]
    },
    {
      "cell_type": "code",
      "execution_count": null,
      "metadata": {
        "id": "qw5Ues7HgH8_"
      },
      "outputs": [],
      "source": [
        "aaaazzad"
      ]
    },
    {
      "cell_type": "code",
      "execution_count": null,
      "metadata": {
        "id": "5puGjqHgMnx9"
      },
      "outputs": [],
      "source": [
        "#TASK 1 - Install matplotlib and deap\n",
        "#       - Import all necessary libraries\n",
        "\n"
      ]
    },
    {
      "cell_type": "code",
      "source": [
        "#SOLUTION\n",
        "!pip install matplotlib deap\n",
        "\n",
        "# Required Libraries\n",
        "import random\n",
        "import numpy as np\n",
        "import matplotlib.pyplot as pltaxrf\n",
        "from deap import base, creator, tools, algorithms"
      ],
      "metadata": {
        "id": "I1l-WuZLSwaX",
        "colab": {
          "base_uri": "https://localhost:8080/"
        },
        "outputId": "d305efd9-ab3e-4024-e04c-d96f63ab4f26"
      },
      "execution_count": null,
      "outputs": [
        {
          "output_type": "stream",
          "name": "stdout",
          "text": [
            "Requirement already satisfied: matplotlib in /usr/local/lib/python3.10/dist-packages (3.10.0)\n",
            "Requirement already satisfied: deap in /usr/local/lib/python3.10/dist-packages (1.4.2)\n",
            "Requirement already satisfied: contourpy>=1.0.1 in /usr/local/lib/python3.10/dist-packages (from matplotlib) (1.3.1)\n",
            "Requirement already satisfied: cycler>=0.10 in /usr/local/lib/python3.10/dist-packages (from matplotlib) (0.12.1)\n",
            "Requirement already satisfied: fonttools>=4.22.0 in /usr/local/lib/python3.10/dist-packages (from matplotlib) (4.55.3)\n",
            "Requirement already satisfied: kiwisolver>=1.3.1 in /usr/local/lib/python3.10/dist-packages (from matplotlib) (1.4.8)\n",
            "Requirement already satisfied: numpy>=1.23 in /usr/local/lib/python3.10/dist-packages (from matplotlib) (1.26.4)\n",
            "Requirement already satisfied: packaging>=20.0 in /usr/local/lib/python3.10/dist-packages (from matplotlib) (24.2)\n",
            "Requirement already satisfied: pillow>=8 in /usr/local/lib/python3.10/dist-packages (from matplotlib) (11.1.0)\n",
            "Requirement already satisfied: pyparsing>=2.3.1 in /usr/local/lib/python3.10/dist-packages (from matplotlib) (3.2.1)\n",
            "Requirement already satisfied: python-dateutil>=2.7 in /usr/local/lib/python3.10/dist-packages (from matplotlib) (2.8.2)\n",
            "Requirement already satisfied: six>=1.5 in /usr/local/lib/python3.10/dist-packages (from python-dateutil>=2.7->matplotlib) (1.17.0)\n"
          ]
        }
      ]
    },
    {
      "cell_type": "code",
      "source": [
        "# TODO: Task 2 - Define the number of locations and vehicles\n",
        "\n",
        "num_locations = # Define the number of locations (eg 10)\n",
        "\n",
        "locations = # Create a list of tuples representing location coordinates -\n",
        "            # try to use a random number generator\n",
        "            # (x, y) could be between 0 and 100\n",
        "\n",
        "depot = # Define the coordinates for the depot\n",
        "\n",
        "num_vehicles = # Define the number of vehicles - (eg 3)"
      ],
      "metadata": {
        "id": "KWk2KjnBP1Vw",
        "colab": {
          "base_uri": "https://localhost:8080/",
          "height": 106
        },
        "outputId": "c592bef8-a7e6-4fe8-8023-350c0e22ed09"
      },
      "execution_count": null,
      "outputs": [
        {
          "output_type": "error",
          "ename": "SyntaxError",
          "evalue": "invalid syntax (<ipython-input-5-aba1bff84959>, line 3)",
          "traceback": [
            "\u001b[0;36m  File \u001b[0;32m\"<ipython-input-5-aba1bff84959>\"\u001b[0;36m, line \u001b[0;32m3\u001b[0m\n\u001b[0;31m    num_locations = # Define the number of locations (eg 10)\u001b[0m\n\u001b[0m                    ^\u001b[0m\n\u001b[0;31mSyntaxError\u001b[0m\u001b[0;31m:\u001b[0m invalid syntax\n"
          ]
        }
      ]
    },
    {
      "cell_type": "code",
      "source": [
        "#SOLUTION\n",
        "\n",
        "num_locations = 20  # Define how many locations (excluding the depot) the vehicles need to visit\n",
        "locations = [(random.randint(0, 100), random.randint(0, 100)) for _ in range(num_locations)]  # Generate random (x, y) coordinates for each location\n",
        "depot = (50, 50)  # Define the central depot location as a fixed point\n",
        "num_vehicles = 3  # Define how many vehicles are available to visit the locations"
      ],
      "metadata": {
        "id": "OxH_U1LxS1xi"
      },
      "execution_count": null,
      "outputs": []
    },
    {
      "cell_type": "code",
      "source": [
        "# TASK 3 - Genetic Algorithm Setup\n",
        "       # - Figure out how to represent an individual OR encode an individual\n",
        "\n",
        "creator.create(\"FitnessMin\", )\n",
        "creator.create(\"Individual\", )"
      ],
      "metadata": {
        "id": "UqmQh8BZS6sX",
        "colab": {
          "base_uri": "https://localhost:8080/",
          "height": 193
        },
        "outputId": "09d7a6b5-c972-4e35-e372-bedd17e28eb1"
      },
      "execution_count": null,
      "outputs": [
        {
          "output_type": "error",
          "ename": "TypeError",
          "evalue": "create() missing 1 required positional argument: 'base'",
          "traceback": [
            "\u001b[0;31m---------------------------------------------------------------------------\u001b[0m",
            "\u001b[0;31mTypeError\u001b[0m                                 Traceback (most recent call last)",
            "\u001b[0;32m<ipython-input-7-f34256eb4670>\u001b[0m in \u001b[0;36m<cell line: 4>\u001b[0;34m()\u001b[0m\n\u001b[1;32m      2\u001b[0m        \u001b[0;31m# - Figure out how to represent an individual OR encode an individual\u001b[0m\u001b[0;34m\u001b[0m\u001b[0;34m\u001b[0m\u001b[0m\n\u001b[1;32m      3\u001b[0m \u001b[0;34m\u001b[0m\u001b[0m\n\u001b[0;32m----> 4\u001b[0;31m \u001b[0mcreator\u001b[0m\u001b[0;34m.\u001b[0m\u001b[0mcreate\u001b[0m\u001b[0;34m(\u001b[0m\u001b[0;34m\"FitnessMin\"\u001b[0m\u001b[0;34m,\u001b[0m \u001b[0;34m)\u001b[0m\u001b[0;34m\u001b[0m\u001b[0;34m\u001b[0m\u001b[0m\n\u001b[0m\u001b[1;32m      5\u001b[0m \u001b[0mcreator\u001b[0m\u001b[0;34m.\u001b[0m\u001b[0mcreate\u001b[0m\u001b[0;34m(\u001b[0m\u001b[0;34m\"Individual\"\u001b[0m\u001b[0;34m,\u001b[0m \u001b[0;34m)\u001b[0m\u001b[0;34m\u001b[0m\u001b[0;34m\u001b[0m\u001b[0m\n",
            "\u001b[0;31mTypeError\u001b[0m: create() missing 1 required positional argument: 'base'"
          ]
        }
      ]
    },
    {
      "cell_type": "code",
      "source": [
        "#TASK 4 - Starting with the toolbox and tools\n",
        "\n",
        "toolbox = base.Toolbox()\n",
        "toolbox.register(\"indices\", random.sample, range(num_locations), num_locations)\n",
        "toolbox.register(\"individual\", #finish defining how to build an individual)\n",
        "toolbox.register(\"population\", #finish defining how to build an population)"
      ],
      "metadata": {
        "id": "wknaZJMvTJ0E",
        "colab": {
          "base_uri": "https://localhost:8080/",
          "height": 106
        },
        "outputId": "de112dbc-e50c-4a49-92d4-08f5052ec2e6"
      },
      "execution_count": null,
      "outputs": [
        {
          "output_type": "error",
          "ename": "SyntaxError",
          "evalue": "incomplete input (<ipython-input-8-74b7a34af842>, line 6)",
          "traceback": [
            "\u001b[0;36m  File \u001b[0;32m\"<ipython-input-8-74b7a34af842>\"\u001b[0;36m, line \u001b[0;32m6\u001b[0m\n\u001b[0;31m    toolbox.register(\"population\", #finish defining how to build an population)\u001b[0m\n\u001b[0m                                                                               ^\u001b[0m\n\u001b[0;31mSyntaxError\u001b[0m\u001b[0;31m:\u001b[0m incomplete input\n"
          ]
        }
      ]
    },
    {
      "cell_type": "code",
      "source": [
        "#SOLUTION - TASK 3 and 4\n",
        "\n",
        "# Genetic Algorithm Setup\n",
        "creator.create(\"FitnessMin\", base.Fitness, weights=(-1.0, -1.0))  # Define fitness function to minimize. The two objectives are total distance and balance penalty.\n",
        "creator.create(\"Individual\", list, fitness=creator.FitnessMin)  # Define individual structure. Individuals are lists with a fitness attribute.\n",
        "\n",
        "toolbox = base.Toolbox()\n",
        "toolbox.register(\"indices\", random.sample, range(num_locations), num_locations)  # Function to generate a list of unique, randomly ordered location indices\n",
        "toolbox.register(\"individual\", tools.initIterate, creator.Individual, toolbox.indices)  # Function to create an individual as a shuffled list of location indices\n",
        "toolbox.register(\"population\", tools.initRepeat, list, toolbox.individual)  # Function to create a population of individuals\n"
      ],
      "metadata": {
        "id": "kCfYmJ6wYNsk"
      },
      "execution_count": null,
      "outputs": []
    },
    {
      "cell_type": "code",
      "source": [
        "# TASK 5 and 6\n",
        "\n",
        "def evalVRP(individual):\n",
        "    # TODO: Task 5 - Write the fitness evaluation function\n",
        "    #              - Return (total distance, standard deviation)\n",
        "\n",
        "\n",
        "\n",
        "#TASK 6 - Register the evaluate function in the toolbox"
      ],
      "metadata": {
        "id": "TVrEQL_NYTV_",
        "colab": {
          "base_uri": "https://localhost:8080/",
          "height": 106
        },
        "outputId": "40382764-65ec-495b-a476-77721c07424b"
      },
      "execution_count": null,
      "outputs": [
        {
          "output_type": "error",
          "ename": "SyntaxError",
          "evalue": "incomplete input (<ipython-input-12-1dcc81bfa9a8>, line 9)",
          "traceback": [
            "\u001b[0;36m  File \u001b[0;32m\"<ipython-input-12-1dcc81bfa9a8>\"\u001b[0;36m, line \u001b[0;32m9\u001b[0m\n\u001b[0;31m    #TASK 6 - Register the evaluate function in the toolbox\u001b[0m\n\u001b[0m                                                           ^\u001b[0m\n\u001b[0;31mSyntaxError\u001b[0m\u001b[0;31m:\u001b[0m incomplete input\n"
          ]
        }
      ]
    },
    {
      "cell_type": "code",
      "source": [
        "# HINT CODE\n",
        "\n",
        "def evalVRP(individual):\n",
        "    total_distance = 0\n",
        "    distances = []  # Track distance traveled by each vehicle for balance calculation\n",
        "    # Split the list of locations among vehicles, ensuring each starts and ends at the depot\n",
        "    for i in range(num_vehicles):\n",
        "\n",
        "        vehicle_route = [depot] + [locations[individual[j]] for j in range(i, len(individual), num_vehicles)] + [depot]\n",
        "\n",
        "        # Calculate total distance traveled by this vehicle\n",
        "\n",
        "\n",
        "        total_distance += vehicle_distance\n",
        "        distances.append(vehicle_distance)\n",
        "\n",
        "    balance_penalty = np.std(#finish code)  # Use standard deviation of distances as a penalty for imbalance among vehicles\n",
        "    return total_distance, balance_penalty\n",
        "\n",
        "toolbox.register(\"evaluate\", evalVRP)"
      ],
      "metadata": {
        "id": "keoz1oQcn03F",
        "colab": {
          "base_uri": "https://localhost:8080/",
          "height": 106
        },
        "outputId": "c8e3d40f-0ed5-4d18-ebd9-53d3d96c0ab0"
      },
      "execution_count": null,
      "outputs": [
        {
          "output_type": "error",
          "ename": "SyntaxError",
          "evalue": "'(' was never closed (<ipython-input-10-7e680449e372>, line 17)",
          "traceback": [
            "\u001b[0;36m  File \u001b[0;32m\"<ipython-input-10-7e680449e372>\"\u001b[0;36m, line \u001b[0;32m17\u001b[0m\n\u001b[0;31m    balance_penalty = np.std(#finish code)  # Use standard deviation of distances as a penalty for imbalance among vehicles\u001b[0m\n\u001b[0m                            ^\u001b[0m\n\u001b[0;31mSyntaxError\u001b[0m\u001b[0;31m:\u001b[0m '(' was never closed\n"
          ]
        }
      ]
    },
    {
      "cell_type": "code",
      "source": [
        "#SOLUTION CODE\n",
        "\n",
        "\n",
        "#Fitness Function\n",
        "def evalVRP(individual):\n",
        "    total_distance = 0\n",
        "    distances = []  # Track distance traveled by each vehicle for balance calculation\n",
        "    # Split the list of locations among vehicles, ensuring each starts and ends at the depot\n",
        "    for i in range(num_vehicles):\n",
        "\n",
        "        vehicle_route = [depot] + [locations[individual[j]] for j in range(i, len(individual), num_vehicles)] + [depot]\n",
        "\n",
        "        # Calculate total distance traveled by this vehicle\n",
        "        vehicle_distance = sum(np.linalg.norm(np.array(vehicle_route[k+1]) - np.array(vehicle_route[k])) for k in range(len(vehicle_route)-1))\n",
        "\n",
        "        total_distance += vehicle_distance\n",
        "        distances.append(vehicle_distance)\n",
        "\n",
        "    balance_penalty = np.std(distances)  # Use standard deviation of distances as a penalty for imbalance among vehicles\n",
        "    return total_distance, balance_penalty\n",
        "\n",
        "toolbox.register(\"evaluate\", evalVRP)"
      ],
      "metadata": {
        "id": "d1jg47akxZFj"
      },
      "execution_count": null,
      "outputs": []
    },
    {
      "cell_type": "code",
      "source": [
        "# TODO: Task 7 - Configure the genetic operators\n",
        "\n",
        "toolbox.register(\"mate\", # Choose and configure a crossover method)\n",
        "toolbox.register(\"mutate\", # Choose and configure a mutation method)\n",
        "toolbox.register(\"select\", # Choose and configure a selection method)"
      ],
      "metadata": {
        "id": "T5VaceUkzEzM"
      },
      "execution_count": null,
      "outputs": []
    },
    {
      "cell_type": "code",
      "source": [
        "#HINTS\n",
        "\n",
        "#Select is simpler, try tournament selection or roulette selection. Look up how to add that.\n",
        "\n",
        "#FOR mutation - mutShuffleIndexes\n",
        "\n",
        "#For mate - cxPartialyMatched, cxOrdered"
      ],
      "metadata": {
        "id": "KWfMgtIu1RFq"
      },
      "execution_count": null,
      "outputs": []
    },
    {
      "cell_type": "code",
      "source": [
        "#SOLUTION\n",
        "\n",
        "toolbox.register(\"mate\", tools.cxPartialyMatched)  # Register the crossover function suitable for permutation-based representation\n",
        "toolbox.register(\"mutate\", tools.mutShuffleIndexes, indpb=0.05)  # Register the mutation function to shuffle indices with a 5% chance per index\n",
        "toolbox.register(\"select\", tools.selTournament, tournsize=3)  # Register the selection function using tournament selection"
      ],
      "metadata": {
        "id": "jTaD27i_LTke"
      },
      "execution_count": null,
      "outputs": []
    },
    {
      "cell_type": "code",
      "source": [
        "# SOLUTION - TASK 8\n",
        "def plot_routes(individual, title=\"Routes\"):\n",
        "    plt.figure()\n",
        "    # Plot locations as blue dots and the depot as a red square\n",
        "    for (x, y) in locations:\n",
        "        plt.plot(x, y, 'bo')\n",
        "    plt.plot(depot[0], depot[1], 'rs')\n",
        "\n",
        "    # Draw routes for each vehicle\n",
        "    for i in range(num_vehicles):\n",
        "        vehicle_route = [depot] + [locations[individual[j]] for j in range(i, len(individual), num_vehicles)] + [depot]\n",
        "        plt.plot(*zip(*vehicle_route), '-', 'rs')\n",
        "\n",
        "    plt.title(title)\n",
        "    plt.xlabel('X Coordinate')\n",
        "    plt.ylabel('Y Coordinate')\n",
        "    plt.show()"
      ],
      "metadata": {
        "id": "8sd56K9OR3dA"
      },
      "execution_count": null,
      "outputs": []
    },
    {
      "cell_type": "code",
      "source": [
        "#TASK 8 - Plotting Function\n",
        "def plot_routes(individual, title=\"Routes\"):\n",
        "    #TODO: Write a function to visualize the routes - just plot the points and lines for each vehicle\n",
        "\n",
        "\n"
      ],
      "metadata": {
        "id": "BMt74gk5LbTy",
        "colab": {
          "base_uri": "https://localhost:8080/",
          "height": 106
        },
        "outputId": "69e949f7-8a43-43fd-bafc-ad8ae2974a20"
      },
      "execution_count": null,
      "outputs": [
        {
          "output_type": "error",
          "ename": "SyntaxError",
          "evalue": "incomplete input (<ipython-input-15-36a7dba74c3e>, line 5)",
          "traceback": [
            "\u001b[0;36m  File \u001b[0;32m\"<ipython-input-15-36a7dba74c3e>\"\u001b[0;36m, line \u001b[0;32m5\u001b[0m\n\u001b[0;31m    \u001b[0m\n\u001b[0m    ^\u001b[0m\n\u001b[0;31mSyntaxError\u001b[0m\u001b[0;31m:\u001b[0m incomplete input\n"
          ]
        }
      ]
    },
    {
      "cell_type": "code",
      "source": [
        "# Running the Genetic Algorithm\n",
        "# Running the Genetic Algorithm\n",
        "def main():\n",
        "    random.seed(42)  # Seed for reproducibility\n",
        "    pop = toolbox.population(n=300)  # Generate initial population\n",
        "    hof = tools.HallOfFame(1)  # Hall of Fame to store the best individual\n",
        "\n",
        "    # Setup statistics to track\n",
        "    stats = tools.Statistics(lambda ind: ind.fitness.values)\n",
        "    stats.register(\"avg\", np.mean)\n",
        "    stats.register(\"min\", np.min)\n",
        "\n",
        "    # Run the genetic algorithm\n",
        "    algorithms.eaSimple(pop, toolbox, 0.7, 0.2, 300, stats=stats, halloffame=hof)\n",
        "\n",
        "    # Plot the best route found\n",
        "    plot_routes(hof[0], \"Optimal Route\")\n",
        "    return pop, stats, hof\n",
        "\n",
        "if __name__ == \"__main__\":\n",
        "    main()"
      ],
      "metadata": {
        "id": "jsQlZIk9SNDD",
        "colab": {
          "base_uri": "https://localhost:8080/",
          "height": 1000
        },
        "outputId": "a4e38ce4-5145-4286-f307-78973aedba01"
      },
      "execution_count": null,
      "outputs": [
        {
          "output_type": "stream",
          "name": "stdout",
          "text": [
            "gen\tnevals\tavg    \tmin    \n",
            "0  \t300   \t601.766\t2.02397\n",
            "1  \t213   \t580.464\t2.65303\n",
            "2  \t243   \t571.848\t2.65303\n",
            "3  \t232   \t559.269\t2.65303\n",
            "4  \t233   \t553.282\t2.49601\n",
            "5  \t218   \t541.339\t2.65303\n",
            "6  \t213   \t537.096\t2.65303\n",
            "7  \t233   \t539.309\t2.90638\n",
            "8  \t219   \t530.756\t4.03069\n",
            "9  \t209   \t518.149\t4.29235\n",
            "10 \t224   \t515.831\t1.99525\n",
            "11 \t230   \t513.279\t4.55096\n",
            "12 \t230   \t506.059\t1.00651\n",
            "13 \t217   \t498.759\t3.3221 \n",
            "14 \t231   \t495.673\t2.77921\n",
            "15 \t250   \t494.812\t3.07872\n",
            "16 \t238   \t486.845\t2.49974\n",
            "17 \t236   \t471.891\t5.26279\n",
            "18 \t225   \t465.32 \t2.91227\n",
            "19 \t225   \t453.053\t0.0590649\n",
            "20 \t209   \t437.057\t0.0590649\n",
            "21 \t232   \t437.555\t0.0590649\n",
            "22 \t237   \t428.457\t0.0590649\n",
            "23 \t217   \t422.421\t0.722058 \n",
            "24 \t227   \t413.317\t1.38058  \n",
            "25 \t246   \t404.123\t1.38058  \n",
            "26 \t233   \t397.596\t1.38058  \n",
            "27 \t219   \t390.685\t0.882901 \n",
            "28 \t229   \t384.03 \t0.663909 \n",
            "29 \t223   \t383.238\t1.83581  \n",
            "30 \t238   \t375.799\t1.67523  \n",
            "31 \t225   \t375.065\t1.67523  \n",
            "32 \t221   \t371.124\t1.67523  \n",
            "33 \t243   \t369.494\t1.52684  \n",
            "34 \t232   \t362.921\t1.52684  \n",
            "35 \t244   \t361.226\t0.765416 \n",
            "36 \t233   \t355.556\t1.29469  \n",
            "37 \t217   \t343.367\t2.66605  \n",
            "38 \t239   \t338.406\t1.41891  \n",
            "39 \t229   \t323.481\t1.77697  \n",
            "40 \t214   \t321.057\t2.94553  \n",
            "41 \t241   \t315.408\t6.65692  \n",
            "42 \t249   \t315.147\t7.1256   \n",
            "43 \t226   \t312.445\t2.29123  \n",
            "44 \t241   \t303.505\t16.802   \n",
            "45 \t232   \t306.298\t15.6342  \n",
            "46 \t236   \t302.074\t16.802   \n",
            "47 \t228   \t296.686\t8.91177  \n",
            "48 \t232   \t298.982\t9.7501   \n",
            "49 \t236   \t296.08 \t9.19725  \n",
            "50 \t220   \t292.517\t10.9508  \n",
            "51 \t219   \t295.3  \t17.7539  \n",
            "52 \t229   \t289.38 \t12.3539  \n",
            "53 \t247   \t290.584\t19.77    \n",
            "54 \t225   \t292.321\t13.3556  \n",
            "55 \t220   \t292.903\t8.42002  \n",
            "56 \t223   \t293.243\t6.88386  \n",
            "57 \t230   \t292.965\t8.24999  \n",
            "58 \t215   \t293.969\t10.9508  \n",
            "59 \t211   \t294.002\t13.5059  \n",
            "60 \t232   \t295.24 \t10.9508  \n",
            "61 \t237   \t293.634\t10.9508  \n",
            "62 \t223   \t285.868\t26.2868  \n",
            "63 \t223   \t296.497\t11.4724  \n",
            "64 \t237   \t291.632\t9.9312   \n",
            "65 \t215   \t288.352\t9.83284  \n",
            "66 \t240   \t295.08 \t3.26346  \n",
            "67 \t210   \t293.893\t12.2557  \n",
            "68 \t229   \t290.02 \t12.2188  \n",
            "69 \t225   \t291.33 \t6.88386  \n",
            "70 \t230   \t291.235\t11.4724  \n",
            "71 \t226   \t295.301\t6.88386  \n",
            "72 \t248   \t294.523\t14.3422  \n",
            "73 \t220   \t290.36 \t7.82658  \n",
            "74 \t214   \t289.284\t15.6755  \n",
            "75 \t224   \t289.696\t14.9398  \n",
            "76 \t224   \t294.335\t12.5497  \n",
            "77 \t219   \t288.494\t16.3801  \n",
            "78 \t230   \t290.646\t10.2046  \n",
            "79 \t241   \t292.658\t14.9398  \n",
            "80 \t242   \t293.029\t12.7117  \n",
            "81 \t236   \t292.437\t7.70653  \n",
            "82 \t212   \t286.815\t8.56893  \n",
            "83 \t216   \t291.992\t5.96833  \n",
            "84 \t235   \t288.705\t12.5989  \n",
            "85 \t209   \t291.116\t5.22683  \n",
            "86 \t232   \t291.583\t11.7319  \n",
            "87 \t224   \t291.673\t12.214   \n",
            "88 \t257   \t293.669\t16.0086  \n",
            "89 \t215   \t291.247\t5.96833  \n",
            "90 \t224   \t292.053\t14.2442  \n",
            "91 \t223   \t291.072\t15.408   \n",
            "92 \t229   \t289.306\t10.9083  \n",
            "93 \t226   \t290.469\t12.9436  \n",
            "94 \t235   \t288.892\t16.0086  \n",
            "95 \t231   \t290.638\t9.06619  \n",
            "96 \t226   \t289.892\t23.9052  \n",
            "97 \t229   \t289.352\t15.6809  \n",
            "98 \t217   \t294.506\t6.22562  \n",
            "99 \t237   \t293.04 \t8.56893  \n",
            "100\t234   \t290.528\t5.96833  \n",
            "101\t213   \t291.968\t16.0086  \n",
            "102\t211   \t293.131\t9.7501   \n",
            "103\t225   \t289.62 \t14.3422  \n",
            "104\t224   \t289.253\t10.6047  \n",
            "105\t205   \t285.866\t10.3939  \n",
            "106\t200   \t290.038\t17.1946  \n",
            "107\t239   \t289.857\t12.2896  \n",
            "108\t219   \t288.557\t6.83811  \n",
            "109\t227   \t289.199\t7.99746  \n",
            "110\t226   \t288.513\t12.2896  \n",
            "111\t250   \t291.664\t15.6755  \n",
            "112\t219   \t292.741\t14.2442  \n",
            "113\t239   \t289.992\t9.06619  \n",
            "114\t231   \t289.809\t12.6395  \n",
            "115\t223   \t290.662\t1.9032   \n",
            "116\t251   \t292.026\t9.06619  \n",
            "117\t233   \t286.993\t18.4612  \n",
            "118\t217   \t289.121\t5.56588  \n",
            "119\t220   \t284.605\t12.2896  \n",
            "120\t221   \t290.905\t14.2442  \n",
            "121\t224   \t299.147\t16.4432  \n",
            "122\t232   \t286.274\t11.0093  \n",
            "123\t232   \t292.289\t9.06619  \n",
            "124\t220   \t292.67 \t7.88526  \n",
            "125\t231   \t289.247\t16.4432  \n",
            "126\t236   \t294.005\t3.32369  \n",
            "127\t222   \t290.899\t5.96833  \n",
            "128\t230   \t290.677\t8.56893  \n",
            "129\t243   \t287.269\t9.06619  \n",
            "130\t224   \t286.846\t9.06619  \n",
            "131\t218   \t291.56 \t12.2896  \n",
            "132\t228   \t292.681\t24.9947  \n",
            "133\t235   \t288.949\t5.96833  \n",
            "134\t233   \t292.996\t15.8294  \n",
            "135\t207   \t291.099\t15.0338  \n",
            "136\t227   \t290.819\t6.49853  \n",
            "137\t235   \t289.886\t7.2325   \n",
            "138\t217   \t292.448\t11.435   \n",
            "139\t234   \t289.445\t18.8097  \n",
            "140\t222   \t289.196\t9.27894  \n",
            "141\t222   \t289.524\t25.4112  \n",
            "142\t208   \t293.161\t9.7501   \n",
            "143\t240   \t294.756\t12.2896  \n",
            "144\t223   \t288.26 \t6.59682  \n",
            "145\t232   \t289.94 \t9.7501   \n",
            "146\t236   \t293.734\t19.8356  \n",
            "147\t232   \t290.966\t14.9398  \n",
            "148\t235   \t289.725\t12.2896  \n",
            "149\t218   \t288.058\t18.1485  \n",
            "150\t229   \t289.571\t8.56893  \n",
            "151\t235   \t289.65 \t8.56893  \n",
            "152\t220   \t289.666\t13.7152  \n",
            "153\t249   \t291.077\t18.2565  \n",
            "154\t230   \t293.327\t6.469    \n",
            "155\t215   \t289.892\t10.891   \n",
            "156\t233   \t288.655\t10.6802  \n",
            "157\t220   \t291.841\t9.7501   \n",
            "158\t210   \t287.394\t15.408   \n",
            "159\t227   \t290.429\t8.0011   \n",
            "160\t225   \t290.985\t6.34603  \n",
            "161\t231   \t293.861\t8.56893  \n",
            "162\t223   \t290.825\t16.3801  \n",
            "163\t221   \t289.478\t14.9398  \n",
            "164\t219   \t287.24 \t18.6591  \n",
            "165\t240   \t290.68 \t2.0842   \n",
            "166\t228   \t288.87 \t9.7501   \n",
            "167\t220   \t295.871\t8.56893  \n",
            "168\t228   \t291.714\t5.96833  \n",
            "169\t227   \t288.715\t15.408   \n",
            "170\t219   \t288.151\t9.06619  \n",
            "171\t231   \t291.067\t28.3548  \n",
            "172\t214   \t289.279\t8.56893  \n",
            "173\t226   \t294.637\t7.53596  \n",
            "174\t231   \t294.85 \t18.4612  \n",
            "175\t224   \t293.046\t23.8359  \n",
            "176\t235   \t293.635\t8.55525  \n",
            "177\t233   \t290.117\t3.32369  \n",
            "178\t225   \t289.515\t22.9371  \n",
            "179\t203   \t291.399\t5.96833  \n",
            "180\t237   \t289.488\t16.4432  \n",
            "181\t221   \t294.16 \t10.2445  \n",
            "182\t220   \t293.589\t5.96833  \n",
            "183\t239   \t293.688\t17.414   \n",
            "184\t215   \t289.413\t9.7501   \n",
            "185\t230   \t289.922\t5.96833  \n",
            "186\t225   \t287.205\t5.96833  \n",
            "187\t223   \t291.953\t9.16134  \n",
            "188\t234   \t290.153\t11.6685  \n",
            "189\t205   \t289.045\t5.96833  \n",
            "190\t215   \t288.804\t5.96833  \n",
            "191\t227   \t290.042\t9.7501   \n",
            "192\t214   \t290.797\t12.2896  \n",
            "193\t219   \t290.717\t11.8698  \n",
            "194\t222   \t289.776\t15.8189  \n",
            "195\t220   \t290.31 \t16.4432  \n",
            "196\t228   \t289.243\t10.2622  \n",
            "197\t195   \t290.031\t15.408   \n",
            "198\t238   \t289.079\t16.9203  \n",
            "199\t218   \t287.72 \t2.04273  \n",
            "200\t216   \t289.387\t23.1592  \n",
            "201\t238   \t289.523\t6.34603  \n",
            "202\t232   \t291.053\t25.928   \n",
            "203\t238   \t290.298\t12.2896  \n",
            "204\t227   \t287.297\t8.64156  \n",
            "205\t233   \t292.283\t9.53518  \n",
            "206\t226   \t290.648\t13.4635  \n",
            "207\t228   \t293.583\t9.06619  \n",
            "208\t231   \t291.019\t9.06619  \n",
            "209\t226   \t293.225\t16.0086  \n",
            "210\t223   \t292.079\t8.56893  \n",
            "211\t214   \t287.009\t15.6755  \n",
            "212\t215   \t289.746\t23.9052  \n",
            "213\t224   \t291.048\t16.3801  \n",
            "214\t226   \t291.889\t17.4758  \n",
            "215\t237   \t291.345\t9.7501   \n",
            "216\t212   \t289.213\t3.21791  \n",
            "217\t218   \t287.221\t14.9398  \n",
            "218\t231   \t290.415\t12.2896  \n",
            "219\t225   \t297.094\t5.96833  \n",
            "220\t228   \t295.107\t8.56893  \n",
            "221\t237   \t294.805\t4.2434   \n",
            "222\t225   \t289.919\t18.6591  \n",
            "223\t219   \t288.279\t14.2442  \n",
            "224\t218   \t288.941\t13.5981  \n",
            "225\t234   \t289.622\t10.6802  \n",
            "226\t230   \t290.349\t9.06619  \n",
            "227\t235   \t288.954\t7.82658  \n",
            "228\t227   \t296.046\t18.6591  \n",
            "229\t234   \t294.821\t9.7501   \n",
            "230\t234   \t288.828\t8.47938  \n",
            "231\t237   \t296.177\t9.7501   \n",
            "232\t229   \t290.285\t16.0086  \n",
            "233\t231   \t289.584\t16.096   \n",
            "234\t219   \t289.814\t14.5791  \n",
            "235\t216   \t289.913\t14.9398  \n",
            "236\t229   \t290.195\t9.06619  \n",
            "237\t239   \t292.47 \t14.9398  \n",
            "238\t228   \t288.773\t9.06619  \n",
            "239\t238   \t292.491\t14.9398  \n",
            "240\t225   \t295.964\t14.2442  \n",
            "241\t219   \t291.376\t13.2115  \n",
            "242\t231   \t290.587\t9.7501   \n",
            "243\t218   \t288.104\t9.7501   \n",
            "244\t227   \t289.199\t16.4432  \n",
            "245\t208   \t290.465\t9.7501   \n",
            "246\t210   \t292.513\t14.955   \n",
            "247\t217   \t288.864\t14.2442  \n",
            "248\t239   \t289.557\t8.56893  \n",
            "249\t227   \t293.055\t15.408   \n",
            "250\t223   \t288.669\t23.8359  \n",
            "251\t239   \t290.947\t8.56893  \n",
            "252\t232   \t293.94 \t9.7501   \n",
            "253\t223   \t289.085\t15.1743  \n",
            "254\t223   \t288.02 \t11.0769  \n",
            "255\t215   \t290.24 \t8.51661  \n",
            "256\t244   \t292.059\t9.7501   \n",
            "257\t227   \t292.272\t5.50131  \n",
            "258\t234   \t291.939\t10.1283  \n",
            "259\t228   \t290.957\t5.96833  \n",
            "260\t218   \t295.09 \t14.7371  \n",
            "261\t234   \t291.91 \t9.94362  \n",
            "262\t223   \t291.341\t12.6336  \n",
            "263\t234   \t293.744\t8.56893  \n",
            "264\t240   \t289.964\t15.2503  \n",
            "265\t243   \t289.478\t12.2896  \n",
            "266\t232   \t291.927\t7.46151  \n",
            "267\t230   \t289.703\t9.06619  \n",
            "268\t225   \t289.862\t5.96833  \n",
            "269\t245   \t290.373\t10.5968  \n",
            "270\t234   \t291.499\t16.0086  \n",
            "271\t221   \t287.184\t5.96833  \n",
            "272\t231   \t290.283\t3.96832  \n",
            "273\t242   \t288.407\t18.4735  \n",
            "274\t228   \t291.477\t5.96833  \n",
            "275\t233   \t290.423\t8.0011   \n",
            "276\t214   \t287.723\t8.51243  \n",
            "277\t232   \t294.797\t9.06619  \n",
            "278\t232   \t294.268\t7.844    \n",
            "279\t227   \t293.831\t2.11362  \n",
            "280\t220   \t289.558\t10.2132  \n",
            "281\t216   \t291.88 \t15.6755  \n",
            "282\t230   \t288.358\t16.0086  \n",
            "283\t240   \t290.408\t11.0168  \n",
            "284\t235   \t288.616\t8.25273  \n",
            "285\t233   \t289.009\t12.2896  \n",
            "286\t213   \t293.666\t8.56893  \n",
            "287\t248   \t293.257\t15.408   \n",
            "288\t231   \t291.773\t14.2025  \n",
            "289\t216   \t289.734\t29.0434  \n",
            "290\t228   \t292.846\t3.21791  \n",
            "291\t231   \t289.477\t8.56893  \n",
            "292\t233   \t295.746\t16.7427  \n",
            "293\t240   \t288.69 \t14.2442  \n",
            "294\t225   \t292.28 \t15.408   \n",
            "295\t242   \t288.362\t5.96833  \n",
            "296\t244   \t293.394\t12.2896  \n",
            "297\t228   \t292.577\t10.9773  \n",
            "298\t212   \t289.291\t14.9398  \n",
            "299\t219   \t289.971\t8.56893  \n",
            "300\t236   \t292.486\t8.56928  \n"
          ]
        },
        {
          "output_type": "display_data",
          "data": {
            "text/plain": [
              "<Figure size 640x480 with 1 Axes>"
            ],
            "image/png": "[encoded data removed]"
          },
          "metadata": {}
        }
      ]
    }
  ]
}